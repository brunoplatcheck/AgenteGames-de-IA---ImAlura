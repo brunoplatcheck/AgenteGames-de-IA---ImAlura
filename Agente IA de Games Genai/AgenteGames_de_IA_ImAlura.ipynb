{
  "nbformat": 4,
  "nbformat_minor": 0,
  "metadata": {
    "colab": {
      "provenance": []
    },
    "kernelspec": {
      "name": "python3",
      "display_name": "Python 3"
    },
    "language_info": {
      "name": "python"
    }
  },
  "cells": [
    {
      "cell_type": "code",
      "execution_count": null,
      "metadata": {
        "id": "YzkXK6CN_6ZM"
      },
      "outputs": [],
      "source": [
        "%pip -q install google-genai"
      ]
    },
    {
      "cell_type": "code",
      "source": [
        "# --- Part 1: Installation and Setup ---\n",
        "!pip install -q google-adk google-genai beautifulsoup4 requests\n",
        "\n",
        "import os\n",
        "from google.colab import userdata\n",
        "os.environ[\"GOOGLE_API_KEY\"] = userdata.get('GOOGLE_API_KEY')\n",
        "\n",
        "from google import genai\n",
        "import warnings\n",
        "\n",
        "warnings.filterwarnings(\"ignore\")"
      ],
      "metadata": {
        "id": "YeXotL-eAGe1"
      },
      "execution_count": null,
      "outputs": []
    },
    {
      "cell_type": "code",
      "source": [
        "# --- Part 2: Import Libraries and Helper Functions ---\n",
        "from google.adk.agents import Agent, Tool\n",
        "from google.adk.runners import Runner\n",
        "from google.adk.sessions import InMemorySessionService\n",
        "from google.adk.tools import google_search\n",
        "from google.genai import types, GenerativeModel\n",
        "import textwrap\n",
        "from IPython.display import display, Markdown\n",
        "import requests\n",
        "from bs4 import BeautifulSoup\n",
        "import json\n",
        "import time\n",
        "\n",
        "# --- Helper Functions ---\n",
        "def call_agent(agent: Agent, message_text: str) -> str:\n",
        "    session_service = InMemorySessionService()\n",
        "    session = session_service.create_session(app_name=agent.name, user_id=\"user1\", session_id=\"session1\")\n",
        "    runner = Runner(agent=agent, app_name=agent.name, session_service=session_service)\n",
        "    content = types.Content(role=\"user\", parts=[types.Part(text=message_text)])\n",
        "\n",
        "    final_response = \"\"\n",
        "    for event in runner.run(user_id=\"user1\", session_id=\"session1\", new_message=content):\n",
        "        if event.is_final_response():\n",
        "            for part in event.content.parts:\n",
        "                if part.text is not None:\n",
        "                    final_response += part.text\n",
        "                    final_response += \"\\n\"\n",
        "    return final_response\n",
        "\n",
        "def to_markdown(text):\n",
        "    text = text.replace('•', '  *')\n",
        "    return Markdown(textwrap.indent(text, '> ', predicate=lambda _: True))"
      ],
      "metadata": {
        "id": "Lw_FRKaXAl_P"
      },
      "execution_count": null,
      "outputs": []
    },
    {
      "cell_type": "code",
      "source": [
        "# --- Part 3: Data Scraping Tools ---\n",
        "def scrape_metacritic(game_title):\n",
        "    try:\n",
        "        search_url = f\"https://www.metacritic.com/search/game/{game_title}/results\"\n",
        "        response = requests.get(search_url)\n",
        "        soup = BeautifulSoup(response.content, \"html.parser\")\n",
        "        first_result = soup.find(\"a\", class_=\"result_title\")\n",
        "        if first_result:\n",
        "            game_url = \"https://www.metacritic.com\" + first_result[\"href\"]\n",
        "            game_response = requests.get(game_url)\n",
        "            game_soup = BeautifulSoup(game_response.content, \"html.parser\")\n",
        "            critic_score = game_soup.find(\"span\", itemprop=\"ratingValue\").text.strip()\n",
        "            user_score_element = game_soup.find(\"div\", class_=\"userscore_wrap feature_userscore\")\n",
        "            user_score = user_score_element.find(\"div\", class_=\"metascore_w user large game\").text.strip() if user_score_element else \"N/A\"\n",
        "            return {\"critic_score\": critic_score, \"user_score\": user_score}\n",
        "        else:\n",
        "            return None\n",
        "    except Exception as e:\n",
        "        print(f\"Error scraping Metacritic for {game_title}: {e}\")\n",
        "        return None\n",
        "\n",
        "def scrape_howlongtobeat(game_title):\n",
        "    try:\n",
        "        search_url = f\"https://howlongtobeat.com/?q={game_title.replace(' ', '+')}\"\n",
        "        response = requests.get(search_url)\n",
        "        soup = BeautifulSoup(response.content, \"html.parser\")\n",
        "        first_result = soup.find(\"a\", href=True)\n",
        "        if first_result:\n",
        "            game_url = \"https://howlongtobeat.com/\" + first_result[\"href\"]\n",
        "            game_response = requests.get(game_url)\n",
        "            game_soup = BeautifulSoup(game_response.content, \"html.parser\")\n",
        "            times = game_soup.find_all(\"div\", class_=\"game_times\")\n",
        "            if times:\n",
        "                main_story_element = times[0].find(\"li\", class_=\"time_100\")\n",
        "                main_story = main_story_element.text.strip() if main_story_element else \"N/A\"\n",
        "                main_plus_extras_element = times[1].find(\"li\", class_=\"time_100\")\n",
        "                main_plus_extras = main_plus_extras_element.text.strip() if main_plus_extras_element else \"N/A\"\n",
        "                completionist_element = times[2].find(\"li\", class_=\"time_100\")\n",
        "                completionist = completionist_element.text.strip() if completionist_element else \"N/A\"\n",
        "                return {\"main_story\": main_story, \"main_plus_extras\": main_plus_extras, \"completionist\": completionist}\n",
        "            else:\n",
        "                return None\n",
        "        else:\n",
        "            return None\n",
        "    except Exception as e:\n",
        "        print(f\"Error scraping HowLongToBeat for {game_title}: {e}\")\n",
        "        return None\n",
        "\n",
        "def scrape_steam_reviews(game_title):  # Simplified Steam scraping\n",
        "    # Needs a more robust approach (e.g., SteamSpy, Steam API - if accessible)\n",
        "    return {\"average_score\": \"N/A\", \"num_reviews\": \"N/A\", \"positive_percentage\": \"N/A\", \"summary\": \"N/A\"}\n",
        "\n",
        "metacritic_tool = Tool(\n",
        "    name=\"metacritic_scraper\",\n",
        "    description=\"Tool to get Metacritic scores for a game.\",\n",
        "    func=scrape_metacritic,\n",
        ")\n",
        "\n",
        "hltb_tool = Tool(\n",
        "    name=\"howlongtobeat_scraper\",\n",
        "    description=\"Tool to get HowLongToBeat completion times for a game.\",\n",
        "    func=scrape_howlongtobeat,\n",
        ")\n",
        "\n",
        "steam_reviews_tool = Tool(\n",
        "    name=\"steam_reviews_scraper\",\n",
        "    description=\"Tool to get Steam reviews for a game.\",\n",
        "    func=scrape_steam_reviews,\n",
        ")"
      ],
      "metadata": {
        "id": "Z9Tx1lkVAoAh"
      },
      "execution_count": null,
      "outputs": []
    },
    {
      "cell_type": "code",
      "source": [
        "# --- Part 4: Agent Definitions ---\n",
        "llm = GenerativeModel(model_name=\"gemini-2.5-pro-preview-03-25\")  # Initialize the LLM\n",
        "\n",
        "game_info_agent = Agent(\n",
        "    name=\"game_info_agent\",\n",
        "    llm=llm,\n",
        "    tools=[google_search, metacritic_tool, hltb_tool, steam_reviews_tool],\n",
        "    instruction=\"\"\"\n",
        "    You are an expert game information retriever. You can answer questions about\n",
        "    specific games, find games based on descriptions, and compare games.\n",
        "    Use the available tools (google_search, metacritic_scraper, howlongtobeat_scraper,\n",
        "    steam_reviews_scraper) to gather comprehensive information.\n",
        "    \"\"\",\n",
        "    description=\"Agent to retrieve detailed information about video games.\"\n",
        ")\n",
        "\n",
        "recommendation_agent = Agent(\n",
        "    name=\"recommendation_agent\",\n",
        "    llm=llm,\n",
        "    tools=[google_search],\n",
        "    instruction=\"\"\"\n",
        "    You are a game recommendation specialist. Based on user requests and information\n",
        "    gathered by other agents, provide personalized game recommendations.\n",
        "    Consider user preferences, game features, critical reception, and player feedback.\n",
        "    \"\"\",\n",
        "    description=\"Agent to provide game recommendations.\"\n",
        ")\n",
        "\n",
        "comparison_agent = Agent(\n",
        "    name=\"comparison_agent\",\n",
        "    llm=llm,\n",
        "    tools=[google_search, metacritic_tool, hltb_tool],\n",
        "    instruction=\"\"\"\n",
        "    You are a game comparison expert. Compare and contrast video games based on\n",
        "    various criteria such as gameplay, story, graphics, and user reviews.\n",
        "    Provide detailed and objective comparisons.\n",
        "    \"\"\",\n",
        "    description=\"Agent to compare video games.\"\n",
        ")"
      ],
      "metadata": {
        "colab": {
          "base_uri": "https://localhost:8080/"
        },
        "id": "fSdT0nqPAy9O",
        "outputId": "ab47c10e-bbfc-4e55-e8bb-e1aa971c86d8"
      },
      "execution_count": null,
      "outputs": [
        {
          "output_type": "stream",
          "name": "stdout",
          "text": [
            "🎮 Welcome to the AI Game Recommendation System! 🎮\n"
          ]
        }
      ]
    },
    {
      "cell_type": "code",
      "source": [
        "# --- Part 5: Main Flow ---\n",
        "print(\"🎮 Welcome to the Advanced AI Game Assistant! 🎮\")\n",
        "\n",
        "session_service = InMemorySessionService()\n",
        "user_id = \"user1\"\n",
        "session_id = \"game_session\"\n",
        "\n",
        "def run_interaction(user_input):\n",
        "    global session_id  # Declare session_id as global\n",
        "\n",
        "    # Determine which agent to use based on the user input\n",
        "    if \"compare\" in user_input.lower():\n",
        "        agent = comparison_agent\n",
        "    elif \"recommend\" in user_input.lower() or \"suggest\" in user_input.lower() or \"find\" in user_input.lower():\n",
        "        agent = recommendation_agent\n",
        "    else:\n",
        "        agent = game_info_agent\n",
        "\n",
        "    session = session_service.create_session(app_name=agent.name, user_id=user_id, session_id=session_id)\n",
        "    runner = Runner(agent=agent, app_name=agent.name, session_service=session_service)\n",
        "    content = types.Content(role=\"user\", parts=[types.Part(text=user_input)])\n",
        "\n",
        "    response = \"\"\n",
        "    for event in runner.run(user_id=user_id, session_id=session_id, new_message=content):\n",
        "        if event.is_final_response():\n",
        "            for part in event.content.parts:\n",
        "                if part.text is not None:\n",
        "                    response += part.text + \"\\n\"\n",
        "    return response\n",
        "\n",
        "while True:\n",
        "    user_input = input(\"What can I help you with today? (or type 'exit'): \")\n",
        "    if user_input.lower() == \"exit\":\n",
        "        break\n",
        "\n",
        "    response = run_interaction(user_input)\n",
        "    print(\"\\n--- 🤖 AI Assistant Response ---\\n\")\n",
        "    display(to_markdown(response))\n",
        "    print(\"--------------------------------------------------------------\")\n",
        "\n",
        "print(\"Thank you for using the AI Game Assistant!\")"
      ],
      "metadata": {
        "id": "lEDUfe6VHbd-"
      },
      "execution_count": null,
      "outputs": []
    }
  ]
}